{
  "nbformat": 4,
  "nbformat_minor": 0,
  "metadata": {
    "kernelspec": {
      "display_name": "Python 3",
      "language": "python",
      "name": "python3"
    },
    "language_info": {
      "codemirror_mode": {
        "name": "ipython",
        "version": 3
      },
      "file_extension": ".py",
      "mimetype": "text/x-python",
      "name": "python",
      "nbconvert_exporter": "python",
      "pygments_lexer": "ipython3",
      "version": "3.7.6"
    },
    "colab": {
      "name": "practice zameen.com.ipynb",
      "provenance": [],
      "include_colab_link": true
    }
  },
  "cells": [
    {
      "cell_type": "markdown",
      "metadata": {
        "id": "view-in-github",
        "colab_type": "text"
      },
      "source": [
        "<a href=\"https://colab.research.google.com/github/MuhammadRustamShomi/examples/blob/master/practice_zameen_com.ipynb\" target=\"_parent\"><img src=\"https://colab.research.google.com/assets/colab-badge.svg\" alt=\"Open In Colab\"/></a>"
      ]
    },
    {
      "cell_type": "code",
      "metadata": {
        "id": "Vx7TwYK8UGqP"
      },
      "source": [
        " #importing all required libarary\n",
        "import pandas as pd\n",
        "from bs4 import BeautifulSoup \n",
        "import requests"
      ],
      "execution_count": 1,
      "outputs": []
    },
    {
      "cell_type": "code",
      "metadata": {
        "id": "YBp2jwNWUGqS"
      },
      "source": [
        "url=\"https://www.zameen.com/Houses_Property/Lahore_Defence_(DHA)_Phase_6-1448-{}.html\""
      ],
      "execution_count": null,
      "outputs": []
    },
    {
      "cell_type": "code",
      "metadata": {
        "id": "QXPAPrB6UGqT"
      },
      "source": [
        "price=[]\n",
        "location=[]\n",
        "detail=[]\n",
        "added=[]\n",
        "article=[]\n",
        "description=[]"
      ],
      "execution_count": null,
      "outputs": []
    },
    {
      "cell_type": "code",
      "metadata": {
        "id": "pRVXm2fjUGqU"
      },
      "source": [
        "for i in range(1,10):\n",
        "    response=requests.get(\"https://www.zameen.com/Houses_Property/Lahore_Defence_(DHA)_Phase_6-1448-{}.html\".format(i))\n",
        "    soup=BeautifulSoup(response.content,\"html.parser\")\n",
        "    for i in soup.findAll(\"span\",class_=\"f343d9ce\"):\n",
        "        price.append(i.text)\n",
        "    for i in soup.findAll(\"div\",class_=\"_162e6469\"):\n",
        "        location.append(i.string)\n",
        "    for i in soup.findAll(\"span\",class_=\"b6a29bc0\"):\n",
        "        detail.append(i.string)\n",
        "    for i in soup.findAll(\"div\",class_=\"_08b01580\"):\n",
        "        added.append(i.text)\n",
        "    for i in soup.findAll(\"h2\",class_=\"c0df3811\"):\n",
        "        article.append(i.string)\n",
        "    for i in soup.findAll(\"div\",class_=\"ee550b27\"):\n",
        "        description.append(i.string)\n",
        "    "
      ],
      "execution_count": null,
      "outputs": []
    },
    {
      "cell_type": "code",
      "metadata": {
        "id": "6zGqrwLNUGqW",
        "outputId": "f5c63c36-229a-49ef-ea62-39bda7d72769"
      },
      "source": [
        "soup.title.string"
      ],
      "execution_count": null,
      "outputs": [
        {
          "output_type": "execute_result",
          "data": {
            "text/plain": [
              "'Houses for Sale in DHA Phase 6 Lahore - Pg 9 - Zameen.com'"
            ]
          },
          "metadata": {
            "tags": []
          },
          "execution_count": 5
        }
      ]
    },
    {
      "cell_type": "code",
      "metadata": {
        "id": "amYwogc3UGqZ"
      },
      "source": [
        "area=detail[2::3]\n",
        "bed=detail[0::3]\n",
        "bath=detail[1::3]"
      ],
      "execution_count": null,
      "outputs": []
    },
    {
      "cell_type": "code",
      "metadata": {
        "id": "0JEkuOeoUGqa"
      },
      "source": [
        "data={\"Bed\":bed,\"Price\":price,\"Location\":location,\"Added_time\":added,\"Features\":article,\"Description\":description}"
      ],
      "execution_count": null,
      "outputs": []
    },
    {
      "cell_type": "code",
      "metadata": {
        "id": "6e36c8biUGqa",
        "outputId": "36ae5d27-c908-4217-b58c-5e00784fe05a"
      },
      "source": [
        "df=pd.DataFrame(data)\n",
        "df[\"Bath\"]=pd.Series(bath)\n",
        "df[\"Area\"]=pd.Series(area)\n",
        "df.reindex(columns=[\"Bed\",\"Bath\",\"Area\",\"Location\",\"Features\",\"Description\",\"Added_time\",\"Price\"])"
      ],
      "execution_count": null,
      "outputs": [
        {
          "output_type": "execute_result",
          "data": {
            "text/html": [
              "<div>\n",
              "<style scoped>\n",
              "    .dataframe tbody tr th:only-of-type {\n",
              "        vertical-align: middle;\n",
              "    }\n",
              "\n",
              "    .dataframe tbody tr th {\n",
              "        vertical-align: top;\n",
              "    }\n",
              "\n",
              "    .dataframe thead th {\n",
              "        text-align: right;\n",
              "    }\n",
              "</style>\n",
              "<table border=\"1\" class=\"dataframe\">\n",
              "  <thead>\n",
              "    <tr style=\"text-align: right;\">\n",
              "      <th></th>\n",
              "      <th>Bed</th>\n",
              "      <th>Bath</th>\n",
              "      <th>Area</th>\n",
              "      <th>Location</th>\n",
              "      <th>Features</th>\n",
              "      <th>Description</th>\n",
              "      <th>Added_time</th>\n",
              "      <th>Price</th>\n",
              "    </tr>\n",
              "  </thead>\n",
              "  <tbody>\n",
              "    <tr>\n",
              "      <th>0</th>\n",
              "      <td>5</td>\n",
              "      <td>6</td>\n",
              "      <td>1 Kanal</td>\n",
              "      <td>DHA Phase 6, DHA Defence</td>\n",
              "      <td>Fully Furnished 1 Kanal House With Access Lawn...</td>\n",
              "      <td>1 Kanal House Came for Sale at Peak Site in DH...</td>\n",
              "      <td>Added: 1 hour ago</td>\n",
              "      <td>6.4 Crore</td>\n",
              "    </tr>\n",
              "    <tr>\n",
              "      <th>1</th>\n",
              "      <td>5</td>\n",
              "      <td>6</td>\n",
              "      <td>1 Kanal</td>\n",
              "      <td>DHA Phase 6, DHA Defence</td>\n",
              "      <td>20 Marla Executive Modern Bungalow Near Main P...</td>\n",
              "      <td>ABOUT THE PROPERTY:\\n5 Master bedrooms with br...</td>\n",
              "      <td>Added: 2 hours ago</td>\n",
              "      <td>5.49 Crore</td>\n",
              "    </tr>\n",
              "    <tr>\n",
              "      <th>2</th>\n",
              "      <td>5</td>\n",
              "      <td>6</td>\n",
              "      <td>1 Kanal</td>\n",
              "      <td>DHA Phase 6 - Block G, DHA Phase 6</td>\n",
              "      <td>Greenz Properties Offers 1 Kanal Brand New Bea...</td>\n",
              "      <td>Greenz Properties Offers 1 Kanal Brand new Bea...</td>\n",
              "      <td>Added: 2 hours ago</td>\n",
              "      <td>9.5 Crore</td>\n",
              "    </tr>\n",
              "    <tr>\n",
              "      <th>3</th>\n",
              "      <td>5</td>\n",
              "      <td>5</td>\n",
              "      <td>1 Kanal</td>\n",
              "      <td>DHA Phase 6, DHA Defence</td>\n",
              "      <td>1 KANAL SPANISH HOUSE FOR SALE IN DHA PHASE 6</td>\n",
              "      <td>Phase 6\\nSapanish House \\nC. block \\n1 kanal h...</td>\n",
              "      <td>Added: 2 hours ago</td>\n",
              "      <td>7.8 Crore</td>\n",
              "    </tr>\n",
              "    <tr>\n",
              "      <th>4</th>\n",
              "      <td>3</td>\n",
              "      <td>4</td>\n",
              "      <td>7 Marla</td>\n",
              "      <td>DHA Phase 6 - Block J, DHA Phase 6</td>\n",
              "      <td>7 Marla Proper Designer House Slightly Used Pr...</td>\n",
              "      <td>Leads Estate Offers :\\nOriginal Pictures Attac...</td>\n",
              "      <td>Added: 2 hours ago</td>\n",
              "      <td>2.75 Crore</td>\n",
              "    </tr>\n",
              "    <tr>\n",
              "      <th>...</th>\n",
              "      <td>...</td>\n",
              "      <td>...</td>\n",
              "      <td>...</td>\n",
              "      <td>...</td>\n",
              "      <td>...</td>\n",
              "      <td>...</td>\n",
              "      <td>...</td>\n",
              "      <td>...</td>\n",
              "    </tr>\n",
              "    <tr>\n",
              "      <th>238</th>\n",
              "      <td>1 Kanal</td>\n",
              "      <td>5</td>\n",
              "      <td>6</td>\n",
              "      <td>DHA Phase 6, DHA Defence</td>\n",
              "      <td>One Kanal Luxury Bungalow For Sale Near Park C...</td>\n",
              "      <td>HARMAIN REAL ESTATE OFFERS' HIDDEN OUT OF MARK...</td>\n",
              "      <td>Added: 5 hours ago</td>\n",
              "      <td>6.1 Crore</td>\n",
              "    </tr>\n",
              "    <tr>\n",
              "      <th>239</th>\n",
              "      <td>1 Kanal</td>\n",
              "      <td>5</td>\n",
              "      <td>6</td>\n",
              "      <td>DHA Phase 6, DHA Defence</td>\n",
              "      <td>LEADS ESTATES OFFER BRAND NEW KANAL BUNGALOW L...</td>\n",
              "      <td>LEADS  ESTATES PROUDLY OFFER KANAL BUNGALOW FO...</td>\n",
              "      <td>Added: 5 hours ago</td>\n",
              "      <td>5.8 Crore</td>\n",
              "    </tr>\n",
              "    <tr>\n",
              "      <th>240</th>\n",
              "      <td>1 Kanal</td>\n",
              "      <td>5</td>\n",
              "      <td>6</td>\n",
              "      <td>DHA Phase 6, DHA Defence</td>\n",
              "      <td>Leads Estates Kanal Bungalow Brand New Lash Co...</td>\n",
              "      <td>LEADS  ESTATES PROUDLY OFFER KANAL BUNGALOW FO...</td>\n",
              "      <td>Added: 5 hours ago</td>\n",
              "      <td>6.75 Crore</td>\n",
              "    </tr>\n",
              "    <tr>\n",
              "      <th>241</th>\n",
              "      <td>1 Kanal</td>\n",
              "      <td>5</td>\n",
              "      <td>6</td>\n",
              "      <td>DHA Phase 6 - Block C, DHA Phase 6</td>\n",
              "      <td>One Kanal Spanish Bungalow For Sale Near Park ...</td>\n",
              "      <td>HARMAIN REAL ESTATE OFFERS' HIDDEN OUT OF MARK...</td>\n",
              "      <td>Added: 5 hours ago</td>\n",
              "      <td>5.9 Crore</td>\n",
              "    </tr>\n",
              "    <tr>\n",
              "      <th>242</th>\n",
              "      <td>2 Kanal</td>\n",
              "      <td>NaN</td>\n",
              "      <td>NaN</td>\n",
              "      <td>DHA Phase 6 - Block E, DHA Phase 6</td>\n",
              "      <td>Two Kanal Brand New Classic Design Bungalow Ne...</td>\n",
              "      <td>Estate Banks Offer Classic Design Owner Build....</td>\n",
              "      <td>Added: 5 hours ago</td>\n",
              "      <td>18 Crore</td>\n",
              "    </tr>\n",
              "  </tbody>\n",
              "</table>\n",
              "<p>243 rows × 8 columns</p>\n",
              "</div>"
            ],
            "text/plain": [
              "         Bed Bath     Area                            Location  \\\n",
              "0          5    6  1 Kanal            DHA Phase 6, DHA Defence   \n",
              "1          5    6  1 Kanal            DHA Phase 6, DHA Defence   \n",
              "2          5    6  1 Kanal  DHA Phase 6 - Block G, DHA Phase 6   \n",
              "3          5    5  1 Kanal            DHA Phase 6, DHA Defence   \n",
              "4          3    4  7 Marla  DHA Phase 6 - Block J, DHA Phase 6   \n",
              "..       ...  ...      ...                                 ...   \n",
              "238  1 Kanal    5        6            DHA Phase 6, DHA Defence   \n",
              "239  1 Kanal    5        6            DHA Phase 6, DHA Defence   \n",
              "240  1 Kanal    5        6            DHA Phase 6, DHA Defence   \n",
              "241  1 Kanal    5        6  DHA Phase 6 - Block C, DHA Phase 6   \n",
              "242  2 Kanal  NaN      NaN  DHA Phase 6 - Block E, DHA Phase 6   \n",
              "\n",
              "                                              Features  \\\n",
              "0    Fully Furnished 1 Kanal House With Access Lawn...   \n",
              "1    20 Marla Executive Modern Bungalow Near Main P...   \n",
              "2    Greenz Properties Offers 1 Kanal Brand New Bea...   \n",
              "3        1 KANAL SPANISH HOUSE FOR SALE IN DHA PHASE 6   \n",
              "4    7 Marla Proper Designer House Slightly Used Pr...   \n",
              "..                                                 ...   \n",
              "238  One Kanal Luxury Bungalow For Sale Near Park C...   \n",
              "239  LEADS ESTATES OFFER BRAND NEW KANAL BUNGALOW L...   \n",
              "240  Leads Estates Kanal Bungalow Brand New Lash Co...   \n",
              "241  One Kanal Spanish Bungalow For Sale Near Park ...   \n",
              "242  Two Kanal Brand New Classic Design Bungalow Ne...   \n",
              "\n",
              "                                           Description          Added_time  \\\n",
              "0    1 Kanal House Came for Sale at Peak Site in DH...   Added: 1 hour ago   \n",
              "1    ABOUT THE PROPERTY:\\n5 Master bedrooms with br...  Added: 2 hours ago   \n",
              "2    Greenz Properties Offers 1 Kanal Brand new Bea...  Added: 2 hours ago   \n",
              "3    Phase 6\\nSapanish House \\nC. block \\n1 kanal h...  Added: 2 hours ago   \n",
              "4    Leads Estate Offers :\\nOriginal Pictures Attac...  Added: 2 hours ago   \n",
              "..                                                 ...                 ...   \n",
              "238  HARMAIN REAL ESTATE OFFERS' HIDDEN OUT OF MARK...  Added: 5 hours ago   \n",
              "239  LEADS  ESTATES PROUDLY OFFER KANAL BUNGALOW FO...  Added: 5 hours ago   \n",
              "240  LEADS  ESTATES PROUDLY OFFER KANAL BUNGALOW FO...  Added: 5 hours ago   \n",
              "241  HARMAIN REAL ESTATE OFFERS' HIDDEN OUT OF MARK...  Added: 5 hours ago   \n",
              "242  Estate Banks Offer Classic Design Owner Build....  Added: 5 hours ago   \n",
              "\n",
              "          Price  \n",
              "0     6.4 Crore  \n",
              "1    5.49 Crore  \n",
              "2     9.5 Crore  \n",
              "3     7.8 Crore  \n",
              "4    2.75 Crore  \n",
              "..          ...  \n",
              "238   6.1 Crore  \n",
              "239   5.8 Crore  \n",
              "240  6.75 Crore  \n",
              "241   5.9 Crore  \n",
              "242    18 Crore  \n",
              "\n",
              "[243 rows x 8 columns]"
            ]
          },
          "metadata": {
            "tags": []
          },
          "execution_count": 8
        }
      ]
    },
    {
      "cell_type": "code",
      "metadata": {
        "id": "KjdRvtPiUGqc"
      },
      "source": [
        "df.to_excel(\"zameen_data.xlsx\")"
      ],
      "execution_count": null,
      "outputs": []
    }
  ]
}